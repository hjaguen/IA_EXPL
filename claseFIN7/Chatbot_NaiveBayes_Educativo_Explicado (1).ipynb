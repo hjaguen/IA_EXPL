{
 "cells": [
  {
   "cell_type": "markdown",
   "id": "395507ce",
   "metadata": {},
   "source": [
    "# 🤖 Chatbot Educativo con Naive Bayes y TF-IDF\n",
    "Este notebook implementa un chatbot en español utilizando técnicas de PLN, Naive Bayes, y TF-IDF. Incluye limpieza de texto, corrección ortográfica, evaluación del modelo y un chatbot interactivo."
   ]
  },
  {
   "cell_type": "markdown",
   "id": "fd3747df",
   "metadata": {},
   "source": [
    "## 📦 Importación de librerías necesarias"
   ]
  },
  {
   "cell_type": "code",
   "execution_count": 2,
   "id": "0ff10eb5",
   "metadata": {},
   "outputs": [],
   "source": [
    "import unicodedata\n",
    "import nltk\n",
    "from nltk.corpus import stopwords\n",
    "from nltk.stem.snowball import SnowballStemmer\n",
    "from nltk.tokenize import word_tokenize\n",
    "from spellchecker import SpellChecker\n",
    "from sklearn.model_selection import train_test_split\n",
    "from sklearn.feature_extraction.text import TfidfVectorizer\n",
    "from sklearn.naive_bayes import MultinomialNB\n",
    "from sklearn.metrics import classification_report, confusion_matrix, accuracy_score\n",
    "import matplotlib.pyplot as plt\n",
    "import seaborn as sns\n",
    "import pandas as pd\n",
    "import random\n",
    "from collections import Counter"
   ]
  },
  {
   "cell_type": "markdown",
   "id": "dde622a4",
   "metadata": {},
   "source": [
    "## 📥 Descarga de recursos de NLTK"
   ]
  },
  {
   "cell_type": "code",
   "execution_count": 3,
   "id": "a82ed0d4",
   "metadata": {},
   "outputs": [
    {
     "name": "stderr",
     "output_type": "stream",
     "text": [
      "[nltk_data] Downloading package punkt to\n",
      "[nltk_data]     C:\\Users\\darly\\AppData\\Roaming\\nltk_data...\n",
      "[nltk_data]   Package punkt is already up-to-date!\n",
      "[nltk_data] Downloading package stopwords to\n",
      "[nltk_data]     C:\\Users\\darly\\AppData\\Roaming\\nltk_data...\n",
      "[nltk_data]   Package stopwords is already up-to-date!\n",
      "[nltk_data] Downloading package wordnet to\n",
      "[nltk_data]     C:\\Users\\darly\\AppData\\Roaming\\nltk_data...\n",
      "[nltk_data]   Package wordnet is already up-to-date!\n",
      "[nltk_data] Downloading package punkt_tab to\n",
      "[nltk_data]     C:\\Users\\darly\\AppData\\Roaming\\nltk_data...\n",
      "[nltk_data]   Package punkt_tab is already up-to-date!\n"
     ]
    },
    {
     "data": {
      "text/plain": [
       "True"
      ]
     },
     "execution_count": 3,
     "metadata": {},
     "output_type": "execute_result"
    }
   ],
   "source": [
    "nltk.download('punkt')\n",
    "nltk.download('stopwords')\n",
    "nltk.download('wordnet')\n",
    "nltk.download('punkt_tab')"
   ]
  },
  {
   "cell_type": "markdown",
   "id": "18834592",
   "metadata": {},
   "source": [
    "## ⚙️ Configuración de herramientas de lenguaje"
   ]
  },
  {
   "cell_type": "code",
   "execution_count": 52,
   "id": "8e464fe7",
   "metadata": {},
   "outputs": [],
   "source": [
    "#stopwords_es = set(stopwords.words('spanish'))\n",
    "stopwords_es = set(stopwords.words('spanish')) - {\"no\", \"cómo\", \"dónde\", \"cuándo\"}\n",
    "\n",
    "stemmer = SnowballStemmer(\"spanish\")\n",
    "spell = SpellChecker(language='es')"
   ]
  },
  {
   "cell_type": "markdown",
   "id": "c0f9d441",
   "metadata": {},
   "source": [
    "## 🗂️ Dataset\n",
    "El dataset contiene frases clasificadas en 12 categorías."
   ]
  },
  {
   "cell_type": "code",
   "execution_count": 165,
   "id": "d39fa0a3",
   "metadata": {},
   "outputs": [],
   "source": [
    "dataset = [\n",
    "    # SALUDO\n",
    "    (\"Hola\", \"saludo\"), (\"Buenos días\", \"saludo\"), (\"¿Qué tal?\", \"saludo\"), (\"¿Cómo estás?\", \"saludo\"),\n",
    "    (\"Saludos\", \"saludo\"), (\"Buenas tardes\", \"saludo\"), (\"Buenas noches\", \"saludo\"),\n",
    "    (\"¿Qué hay de nuevo?\", \"saludo\"), (\"¡Hola, qué gusto!\", \"saludo\"), (\"¿Cómo te va?\", \"saludo\"),\n",
    "\n",
    "    # QUEJA\n",
    "    (\"Estoy molesto por el servicio\", \"queja\"), (\"No me gusta el trato que recibí\", \"queja\"),\n",
    "    (\"La atención fue muy lenta\", \"queja\"), (\"El producto llegó dañado\", \"queja\"),\n",
    "    (\"No contestan mis llamadas\", \"queja\"), (\"No estoy conforme con la calidad\", \"queja\"),\n",
    "    (\"Tuve un problema con la compra\", \"queja\"), (\"El envío se retrasó\", \"queja\"),\n",
    "    (\"No funciona como esperaba\", \"queja\"), (\"El empaque estaba roto\", \"queja\"),\n",
    "\n",
    "    # RECLAMO\n",
    "    (\"Quiero hacer un reclamo formal\", \"reclamo\"), (\"Deseo que me reembolsen\", \"reclamo\"),\n",
    "    (\"Voy a presentar una queja oficial\", \"reclamo\"), (\"Estoy haciendo un reclamo de garantía\", \"reclamo\"),\n",
    "    (\"Reclamo por la mala atención recibida\", \"reclamo\"), (\"No recibí lo que compré\", \"reclamo\"),\n",
    "    (\"Reclamo por doble cobro\", \"reclamo\"), (\"Quiero un cambio del producto\", \"reclamo\"),\n",
    "    (\"No me llegó la factura\", \"reclamo\"), (\"El reclamo fue ignorado\", \"reclamo\"),\n",
    "\n",
    "    # PETICIÓN\n",
    "    (\"Necesito saber más sobre el servicio\", \"petición\"), (\"Quiero más información\", \"petición\"),\n",
    "    (\"¿Tienen catálogo en línea?\", \"petición\"), (\"Envíenme más detalles por correo\", \"petición\"),\n",
    "    (\"¿Dónde puedo ver los productos?\", \"petición\"), (\"¿Cómo puedo comprar?\", \"petición\"),\n",
    "    (\"Solicito asesoría\", \"petición\"), (\"Me pueden orientar con el proceso\", \"petición\"),\n",
    "    (\"¿Hay más opciones disponibles?\", \"petición\"), (\"¿Tienen promociones?\", \"petición\"),\n",
    "\n",
    "    # DESPEDIDA\n",
    "    (\"Hasta luego\", \"despedida\"), (\"Nos vemos\", \"despedida\"), (\"Gracias, adiós\", \"despedida\"),\n",
    "    (\"Chao\", \"despedida\"), (\"Gracias por todo\", \"despedida\"), (\"Fue un gusto, adiós\", \"despedida\"),\n",
    "    (\"Nos vemos pronto\", \"despedida\"), (\"Hasta la próxima\", \"despedida\"), (\"Cuídate\", \"despedida\"),\n",
    "    (\"Buen día, adiós\", \"despedida\"),\n",
    "\n",
    "    # CONTACTO\n",
    "    (\"¿Dónde los puedo contactar?\", \"contacto\"), (\"¿Cuál es su número de atención?\", \"contacto\"),\n",
    "    (\"¿Tienen WhatsApp?\", \"contacto\"), (\"¿Hay un correo para escribirles?\", \"contacto\"),\n",
    "    (\"¿Tienen redes sociales?\", \"contacto\"), (\"¿Dónde puedo encontrarlos?\", \"contacto\"),\n",
    "    (\"¿Atienden por teléfono?\", \"contacto\"), (\"¿Tienen línea de atención?\", \"contacto\"),\n",
    "    (\"¿Dónde está la oficina?\", \"contacto\"), (\"¿Cómo puedo hablar con un asesor?\", \"contacto\"),\n",
    "\n",
    "    # HORARIO\n",
    "    (\"¿Cuál es el horario de atención?\", \"horario\"), (\"¿Trabajan los fines de semana?\", \"horario\"),\n",
    "    (\"¿A qué hora abren?\", \"horario\"), (\"¿Hasta qué hora están disponibles?\", \"horario\"),\n",
    "    (\"¿Tienen atención 24/7?\", \"horario\"), (\"¿Qué días trabajan?\", \"horario\"),\n",
    "    (\"¿Están abiertos hoy?\", \"horario\"), (\"¿Puedo llamarlos en la noche?\", \"horario\"),\n",
    "    (\"¿Tienen horario continuo?\", \"horario\"), (\"¿Hay atención los festivos?\", \"horario\"),\n",
    "\n",
    "    # PRECIO\n",
    "    (\"¿Cuánto cuesta el producto?\", \"precio\"), (\"¿Cuál es el precio del servicio?\", \"precio\"),\n",
    "    (\"¿Tienen precios especiales?\", \"precio\"), (\"¿Hay descuentos?\", \"precio\"),\n",
    "    (\"¿Cuánto vale el envío?\", \"precio\"), (\"¿Tienen ofertas?\", \"precio\"),\n",
    "    (\"¿Es muy caro?\", \"precio\"), (\"¿Cuál es el precio por unidad?\", \"precio\"),\n",
    "    (\"¿Puedo pagar a cuotas?\", \"precio\"), (\"¿Aceptan pagos con tarjeta?\", \"precio\"),\n",
    "\n",
    "    # DEVOLUCIÓN\n",
    "    (\"¿Puedo devolver el producto?\", \"devolución\"), (\"¿Cuál es la política de devoluciones?\", \"devolución\"),\n",
    "    (\"¿Aceptan cambios?\", \"devolución\"), (\"¿Puedo cambiar por otro modelo?\", \"devolución\"),\n",
    "    (\"¿Cuánto tiempo tengo para devolver?\", \"devolución\"), (\"¿Puedo pedir reembolso?\", \"devolución\"),\n",
    "    (\"¿Me devuelven el dinero?\", \"devolución\"), (\"¿Dónde hago la devolución?\", \"devolución\"),\n",
    "    (\"¿Tengo que pagar por devolver?\", \"devolución\"), (\"¿Cómo gestiono una devolución?\", \"devolución\"),\n",
    "\n",
    "    # SOPORTE\n",
    "    (\"Tengo un problema técnico\", \"soporte\"), (\"¿Cómo puedo solucionar un error?\", \"soporte\"),\n",
    "    (\"¿Hay soporte en línea?\", \"soporte\"), (\"¿Tienen ayuda técnica?\", \"soporte\"),\n",
    "    (\"Mi sistema no responde\", \"soporte\"), (\"No puedo entrar a la plataforma\", \"soporte\"),\n",
    "    (\"Me aparece un error en pantalla\", \"soporte\"), (\"¿Dónde reporto un fallo?\", \"soporte\"),\n",
    "    (\"Necesito asistencia técnica\", \"soporte\"), (\"Tengo un problema con la app\", \"soporte\"),\n",
    "\n",
    "    # AGRADECIMIENTO\n",
    "    (\"Muchas gracias\", \"agradecimiento\"), (\"Gracias por su ayuda\", \"agradecimiento\"),\n",
    "    (\"Agradezco mucho su atención\", \"agradecimiento\"), (\"Muy amables, gracias\", \"agradecimiento\"),\n",
    "    (\"Gracias por responder\", \"agradecimiento\"), (\"Qué buen servicio, gracias\", \"agradecimiento\"),\n",
    "    (\"Gracias por su tiempo\", \"agradecimiento\"), (\"Estoy agradecido\", \"agradecimiento\"),\n",
    "    (\"Gracias por todo\", \"agradecimiento\"), (\"Muy agradecido\", \"agradecimiento\"),\n",
    "\n",
    "    # FELICITACIÓN\n",
    "    (\"Excelente atención\", \"felicitación\"), (\"Muy buen servicio\", \"felicitación\"),\n",
    "    (\"Estoy muy satisfecho\", \"felicitación\"), (\"Felicitaciones por su trabajo\", \"felicitación\"),\n",
    "    (\"Gracias, todo salió perfecto\", \"felicitación\"), (\"Muy bien hecho\", \"felicitación\"),\n",
    "    (\"Quiero felicitar al equipo\", \"felicitación\"), (\"Todo funcionó excelente\", \"felicitación\"),\n",
    "    (\"Estoy feliz con el resultado\", \"felicitación\"), (\"Buen trabajo\", \"felicitación\")\n",
    "]  \n"
   ]
  },
  {
   "cell_type": "code",
   "execution_count": 140,
   "id": "291e0a24-aaf7-4478-82e3-50f303a5ded0",
   "metadata": {},
   "outputs": [
    {
     "data": {
      "text/plain": [
       "120"
      ]
     },
     "execution_count": 140,
     "metadata": {},
     "output_type": "execute_result"
    }
   ],
   "source": [
    "len(dataset)"
   ]
  },
  {
   "cell_type": "markdown",
   "id": "c87312eb",
   "metadata": {},
   "source": [
    "## 🧹 Función de limpieza de frases"
   ]
  },
  {
   "cell_type": "code",
   "execution_count": 145,
   "id": "fd54252d",
   "metadata": {},
   "outputs": [],
   "source": [
    "def limpiar_frase(frase):\n",
    "    frase = unicodedata.normalize(\"NFD\", frase)\n",
    "    frase = frase.encode(\"ascii\", \"ignore\").decode(\"utf-8\")\n",
    "    frase = frase.lower()\n",
    "    tokens = word_tokenize(frase, language='spanish')\n",
    "   # tokens_corregidos = [spell.correction(palabra) for palabra in tokens if palabra is not None]\n",
    "  #  tokens_corregidos = [spell.correction(palabra) or palabra for palabra in tokens]\n",
    "    palabras_clave = {\"como\", \"estas\", \"hola\", \"gracias\", \"no\", \"si\"}\n",
    "    tokens_corregidos = [\n",
    "        palabra if palabra in palabras_clave else spell.correction(palabra) or palabra for palabra in tokens ]\n",
    "\n",
    "    palabras_limpias = [\n",
    "    stemmer.stem(p) for p in tokens_corregidos\n",
    "    if p and p.isalpha() and (p not in stopwords_es or p in palabras_clave) and len(p) > 2\n",
    "]\n",
    "\n",
    "   \n",
    "    print(\" \".join(palabras_limpias))\n",
    "    return \" \".join(palabras_limpias)"
   ]
  },
  {
   "cell_type": "code",
   "execution_count": 152,
   "id": "a7fd56f8-a44a-4563-9a4f-7da49e2f06d2",
   "metadata": {},
   "outputs": [],
   "source": [
    "def limpiar_frase(frase):\n",
    "    # Normaliza caracteres Unicode y convierte a minúsculas\n",
    "    frase = unicodedata.normalize(\"NFD\", frase)\n",
    "    frase = frase.encode(\"ascii\", \"ignore\").decode(\"utf-8\")\n",
    "    frase = frase.lower()\n",
    "\n",
    "    # Tokeniza en español\n",
    "    tokens = word_tokenize(frase, language='spanish')\n",
    "\n",
    "    # Palabras que no deben ser corregidas (claves para la intención)\n",
    "    palabras_clave = {\"como\", \"estas\", \"hola\", \"gracias\", \"no\", \"si\"}\n",
    "\n",
    "    # Corrige solo si no es palabra clave. Si la corrección da None, conserva la original\n",
    "    tokens_corregidos = [\n",
    "        palabra if palabra in palabras_clave else spell.correction(palabra) or palabra\n",
    "        for palabra in tokens\n",
    "    ]\n",
    "\n",
    "    # Filtrado + stemmin\n",
    "    palabras_limpias = [\n",
    "       stemmer.stem(p) for p in tokens #va cooregido\n",
    "        if p and p.isalpha() and (p not in stopwords_es) and len(p) > 2\n",
    "    ]\n",
    "    print(\" \".join(palabras_limpias))\n",
    "\n",
    "    return \" \".join(palabras_limpias)\n"
   ]
  },
  {
   "cell_type": "code",
   "execution_count": 167,
   "id": "c82a7c05-a2d0-492f-a8d8-10e1ea8ccb32",
   "metadata": {},
   "outputs": [],
   "source": [
    "def limpiar_frase(frase):\n",
    "    # Normaliza caracteres Unicode y convierte a minúsculas\n",
    "    frase = unicodedata.normalize(\"NFD\", frase)\n",
    "    frase = frase.encode(\"ascii\", \"ignore\").decode(\"utf-8\")\n",
    "    frase = frase.lower()\n",
    "\n",
    "    # Tokeniza en español\n",
    "    tokens = word_tokenize(frase, language='spanish')\n",
    "\n",
    "    # Palabras que no deben ser corregidas (claves para la intención)\n",
    "    palabras_clave = {\"como\", \"estas\", \"hola\", \"gracias\", \"no\", \"si\"}\n",
    "\n",
    "    # Corrige solo si no es palabra clave. Si la corrección da None, conserva la original\n",
    "    tokens_corregidos = [\n",
    "        palabra if palabra in palabras_clave else spell.correction(palabra) or palabra\n",
    "        for palabra in tokens\n",
    "    ]\n",
    "\n",
    "    # Filtrado + stemmin\n",
    "   \n",
    "    palabras_limpias = [\n",
    "        stemmer.stem(p) for p in tokens\n",
    "        if p and p.strip() != \"\" and p.isalpha() and (p not in stopwords_es) and len(p) > 2\n",
    "]\n",
    "\n",
    "    print(\" \".join(palabras_limpias))\n",
    "\n",
    "    return \" \".join(palabras_limpias)"
   ]
  },
  {
   "cell_type": "markdown",
   "id": "23bff33b",
   "metadata": {},
   "source": [
    "## 📊 Preparación de datos y revisión del balance de clases"
   ]
  },
  {
   "cell_type": "code",
   "execution_count": 168,
   "id": "f43de412",
   "metadata": {},
   "outputs": [
    {
     "name": "stdout",
     "output_type": "stream",
     "text": [
      "hol\n",
      "buen dias\n",
      "tal\n",
      "\n",
      "salud\n",
      "buen tard\n",
      "buen noch\n",
      "nuev\n",
      "hol gust\n",
      "\n",
      "molest servici\n",
      "gust trat recibi\n",
      "atencion lent\n",
      "product lleg dan\n",
      "contest llam\n",
      "conform calid\n",
      "problem compr\n",
      "envi retras\n",
      "funcion esper\n",
      "empaqu rot\n",
      "quier hac reclam formal\n",
      "dese reembols\n",
      "voy present quej oficial\n",
      "hac reclam garanti\n",
      "reclam mal atencion recib\n",
      "recibi compr\n",
      "reclam dobl cobr\n",
      "quier cambi product\n",
      "lleg factur\n",
      "reclam ignor\n",
      "necesit sab mas servici\n",
      "quier mas inform\n",
      "catalog line\n",
      "envienm mas detall corre\n",
      "pued ver product\n",
      "pued compr\n",
      "solicit asesori\n",
      "pued orient proces\n",
      "mas opcion dispon\n",
      "promocion\n",
      "lueg\n",
      "vem\n",
      "graci adi\n",
      "cha\n",
      "graci\n",
      "gust adi\n",
      "vem pront\n",
      "proxim\n",
      "cuidat\n",
      "buen dia adi\n",
      "pued contact\n",
      "numer atencion\n",
      "whatsapp\n",
      "corre escrib\n",
      "red social\n",
      "pued encontr\n",
      "atiend telefon\n",
      "line atencion\n",
      "oficin\n",
      "pued habl asesor\n",
      "horari atencion\n",
      "trabaj fin seman\n",
      "hor abren\n",
      "hor estan dispon\n",
      "atencion\n",
      "dias trabaj\n",
      "estan abiert hoy\n",
      "pued llam noch\n",
      "horari continu\n",
      "atencion festiv\n",
      "cuant cuest product\n",
      "preci servici\n",
      "preci especial\n",
      "descuent\n",
      "cuant val envi\n",
      "ofert\n",
      "car\n",
      "preci unid\n",
      "pued pag cuot\n",
      "acept pag tarjet\n",
      "pued devolv product\n",
      "polit devolu\n",
      "acept cambi\n",
      "pued cambi model\n",
      "cuant tiemp devolv\n",
      "pued ped reembols\n",
      "devuelv diner\n",
      "hag devolucion\n",
      "pag devolv\n",
      "gestion devolucion\n",
      "problem tecnic\n",
      "pued solucion error\n",
      "soport line\n",
      "ayud tecnic\n",
      "sistem respond\n",
      "pued entrar plataform\n",
      "aparec error pantall\n",
      "report fall\n",
      "necesit asistent tecnic\n",
      "problem app\n",
      "much graci\n",
      "graci ayud\n",
      "agradezc atencion\n",
      "amabl graci\n",
      "graci respond\n",
      "buen servici graci\n",
      "graci tiemp\n",
      "agradec\n",
      "graci\n",
      "agradec\n",
      "excelent atencion\n",
      "buen servici\n",
      "satisfech\n",
      "felicit trabaj\n",
      "graci sali perfect\n",
      "bien hech\n",
      "quier felicit equip\n",
      "funcion excelent\n",
      "feliz result\n",
      "buen trabaj\n",
      "hol\n",
      "buen dias\n",
      "tal\n",
      "\n",
      "salud\n",
      "buen tard\n",
      "buen noch\n",
      "nuev\n",
      "hol gust\n",
      "\n",
      "molest servici\n",
      "gust trat recibi\n",
      "atencion lent\n",
      "product lleg dan\n",
      "contest llam\n",
      "conform calid\n",
      "problem compr\n",
      "envi retras\n",
      "funcion esper\n",
      "empaqu rot\n",
      "quier hac reclam formal\n",
      "dese reembols\n",
      "voy present quej oficial\n",
      "hac reclam garanti\n",
      "reclam mal atencion recib\n",
      "recibi compr\n",
      "reclam dobl cobr\n",
      "quier cambi product\n",
      "lleg factur\n",
      "reclam ignor\n",
      "necesit sab mas servici\n",
      "quier mas inform\n",
      "catalog line\n",
      "envienm mas detall corre\n",
      "pued ver product\n",
      "pued compr\n",
      "solicit asesori\n",
      "pued orient proces\n",
      "mas opcion dispon\n",
      "promocion\n",
      "lueg\n",
      "vem\n",
      "graci adi\n",
      "cha\n",
      "graci\n",
      "gust adi\n",
      "vem pront\n",
      "proxim\n",
      "cuidat\n",
      "buen dia adi\n",
      "pued contact\n",
      "numer atencion\n",
      "whatsapp\n",
      "corre escrib\n",
      "red social\n",
      "pued encontr\n",
      "atiend telefon\n",
      "line atencion\n",
      "oficin\n",
      "pued habl asesor\n",
      "horari atencion\n",
      "trabaj fin seman\n",
      "hor abren\n",
      "hor estan dispon\n",
      "atencion\n",
      "dias trabaj\n",
      "estan abiert hoy\n",
      "pued llam noch\n",
      "horari continu\n",
      "atencion festiv\n",
      "cuant cuest product\n",
      "preci servici\n",
      "preci especial\n",
      "descuent\n",
      "cuant val envi\n",
      "ofert\n",
      "car\n",
      "preci unid\n",
      "pued pag cuot\n",
      "acept pag tarjet\n",
      "pued devolv product\n",
      "polit devolu\n",
      "acept cambi\n",
      "pued cambi model\n",
      "cuant tiemp devolv\n",
      "pued ped reembols\n",
      "devuelv diner\n",
      "hag devolucion\n",
      "pag devolv\n",
      "gestion devolucion\n",
      "problem tecnic\n",
      "pued solucion error\n",
      "soport line\n",
      "ayud tecnic\n",
      "sistem respond\n",
      "pued entrar plataform\n",
      "aparec error pantall\n",
      "report fall\n",
      "necesit asistent tecnic\n",
      "problem app\n",
      "much graci\n",
      "graci ayud\n",
      "agradezc atencion\n",
      "amabl graci\n",
      "graci respond\n",
      "buen servici graci\n",
      "graci tiemp\n",
      "agradec\n",
      "graci\n",
      "agradec\n",
      "excelent atencion\n",
      "buen servici\n",
      "satisfech\n",
      "felicit trabaj\n",
      "graci sali perfect\n",
      "bien hech\n",
      "quier felicit equip\n",
      "funcion excelent\n",
      "feliz result\n",
      "buen trabaj\n",
      "hol\n",
      "buen dias\n",
      "tal\n",
      "\n",
      "salud\n",
      "buen tard\n",
      "buen noch\n",
      "nuev\n",
      "hol gust\n",
      "\n",
      "molest servici\n",
      "gust trat recibi\n",
      "atencion lent\n",
      "product lleg dan\n",
      "contest llam\n",
      "conform calid\n",
      "problem compr\n",
      "envi retras\n",
      "funcion esper\n",
      "empaqu rot\n",
      "quier hac reclam formal\n",
      "dese reembols\n",
      "voy present quej oficial\n",
      "hac reclam garanti\n",
      "reclam mal atencion recib\n",
      "recibi compr\n",
      "reclam dobl cobr\n",
      "quier cambi product\n",
      "lleg factur\n",
      "reclam ignor\n",
      "necesit sab mas servici\n",
      "quier mas inform\n",
      "catalog line\n",
      "envienm mas detall corre\n",
      "pued ver product\n",
      "pued compr\n",
      "solicit asesori\n",
      "pued orient proces\n",
      "mas opcion dispon\n",
      "promocion\n",
      "lueg\n",
      "vem\n",
      "graci adi\n",
      "cha\n",
      "graci\n",
      "gust adi\n",
      "vem pront\n",
      "proxim\n",
      "cuidat\n",
      "buen dia adi\n",
      "pued contact\n",
      "numer atencion\n",
      "whatsapp\n",
      "corre escrib\n",
      "red social\n",
      "pued encontr\n",
      "atiend telefon\n",
      "line atencion\n",
      "oficin\n",
      "pued habl asesor\n",
      "horari atencion\n",
      "trabaj fin seman\n",
      "hor abren\n",
      "hor estan dispon\n",
      "atencion\n",
      "dias trabaj\n",
      "estan abiert hoy\n",
      "pued llam noch\n",
      "horari continu\n",
      "atencion festiv\n",
      "cuant cuest product\n",
      "preci servici\n",
      "preci especial\n",
      "descuent\n",
      "cuant val envi\n",
      "ofert\n",
      "car\n",
      "preci unid\n",
      "pued pag cuot\n",
      "acept pag tarjet\n",
      "pued devolv product\n",
      "polit devolu\n",
      "acept cambi\n",
      "pued cambi model\n",
      "cuant tiemp devolv\n",
      "pued ped reembols\n",
      "devuelv diner\n",
      "hag devolucion\n",
      "pag devolv\n",
      "gestion devolucion\n",
      "problem tecnic\n",
      "pued solucion error\n",
      "soport line\n",
      "ayud tecnic\n",
      "sistem respond\n",
      "pued entrar plataform\n",
      "aparec error pantall\n",
      "report fall\n",
      "necesit asistent tecnic\n",
      "problem app\n",
      "much graci\n",
      "graci ayud\n",
      "agradezc atencion\n",
      "amabl graci\n",
      "graci respond\n",
      "buen servici graci\n",
      "graci tiemp\n",
      "agradec\n",
      "graci\n",
      "agradec\n",
      "excelent atencion\n",
      "buen servici\n",
      "satisfech\n",
      "felicit trabaj\n",
      "graci sali perfect\n",
      "bien hech\n",
      "quier felicit equip\n",
      "funcion excelent\n",
      "feliz result\n",
      "buen trabaj\n"
     ]
    }
   ],
   "source": [
    "frases = [limpiar_frase(texto) for texto, etiqueta in dataset]\n",
    "etiquetas = [etiqueta for texto, etiqueta in dataset]\n",
    "conteo_clases = Counter(etiquetas)\n",
    "for etiqueta, cantidad in conteo_clases.items():\n",
    "    print(f\"{etiqueta}: {cantidad} frases\")"
   ]
  },
  {
   "cell_type": "markdown",
   "id": "c5cb3ee7",
   "metadata": {},
   "source": [
    "## ✂️ División train/test y vectorización con TF-IDF"
   ]
  },
  {
   "cell_type": "code",
   "execution_count": 169,
   "id": "808c3543",
   "metadata": {},
   "outputs": [],
   "source": [
    "X_train, X_test, y_train, y_test = train_test_split(frases, etiquetas, test_size=0.2, stratify=etiquetas, random_state=42)\n",
    "#vectorizador = TfidfVectorizer() #sin n-gramas (de a uno)\n",
    "vectorizador = TfidfVectorizer(ngram_range=(1, 2), min_df=1) #con bigramas\n",
    "\n",
    "X_train_vec = vectorizador.fit_transform(X_train)\n",
    "X_test_vec = vectorizador.transform(X_test)"
   ]
  },
  {
   "cell_type": "markdown",
   "id": "8bcc9c04",
   "metadata": {},
   "source": [
    "## 📈 Entrenamiento del modelo y evaluación"
   ]
  },
  {
   "cell_type": "code",
   "execution_count": 170,
   "id": "22172b42",
   "metadata": {},
   "outputs": [
    {
     "name": "stdout",
     "output_type": "stream",
     "text": [
      "Accuracy: 0.9166666666666666\n",
      "                precision    recall  f1-score   support\n",
      "\n",
      "agradecimiento       0.67      1.00      0.80         6\n",
      "      contacto       1.00      1.00      1.00         6\n",
      "     despedida       1.00      0.83      0.91         6\n",
      "    devolución       0.67      1.00      0.80         6\n",
      "  felicitación       1.00      1.00      1.00         6\n",
      "       horario       1.00      1.00      1.00         6\n",
      "      petición       1.00      1.00      1.00         6\n",
      "        precio       1.00      1.00      1.00         6\n",
      "         queja       1.00      1.00      1.00         6\n",
      "       reclamo       1.00      0.50      0.67         6\n",
      "        saludo       1.00      0.67      0.80         6\n",
      "       soporte       1.00      1.00      1.00         6\n",
      "\n",
      "      accuracy                           0.92        72\n",
      "     macro avg       0.94      0.92      0.91        72\n",
      "  weighted avg       0.94      0.92      0.91        72\n",
      "\n"
     ]
    }
   ],
   "source": [
    "modelo = MultinomialNB()\n",
    "modelo.fit(X_train_vec, y_train)\n",
    "y_pred = modelo.predict(X_test_vec)\n",
    "print(\"Accuracy:\", accuracy_score(y_test, y_pred))\n",
    "print(classification_report(y_test, y_pred))"
   ]
  },
  {
   "cell_type": "markdown",
   "id": "2d1883eb",
   "metadata": {},
   "source": [
    "## 🤖 Clasificador interactivo"
   ]
  },
  {
   "cell_type": "code",
   "execution_count": 171,
   "id": "c7dffdb4",
   "metadata": {},
   "outputs": [],
   "source": [
    "def clasificar_interactivo(frase):\n",
    "    frase_limpia = limpiar_frase(frase)\n",
    "    vector = vectorizador.transform([frase_limpia])\n",
    "    print(\"____\", modelo.predict(vector)[0])\n",
    "    return modelo.predict(vector)[0]"
   ]
  },
  {
   "cell_type": "markdown",
   "id": "3f873b64",
   "metadata": {},
   "source": [
    "## 💬 Diccionario de respuestas múltiples por categoría"
   ]
  },
  {
   "cell_type": "code",
   "execution_count": 172,
   "id": "f90cd75a",
   "metadata": {},
   "outputs": [],
   "source": [
    "respuestas = {\n",
    "    \"saludo\": [\"¡Hola! ¿Cómo puedo ayudarte hoy?\", \"¡Hola! Bienvenido, dime en qué te puedo ayudar.\", \"Saludos, ¿en qué te puedo colaborar?\"],\n",
    "    \"queja\": [\"Lamentamos los inconvenientes.\", \"Entendemos tu malestar.\", \"Gracias por reportarlo.\"],\n",
    "    \"reclamo\": [\"Vamos a revisar tu reclamo.\", \"Tu reclamo ha sido registrado.\", \"Estamos gestionando tu reclamo.\"],\n",
    "    \"petición\": [\"Procesando tu solicitud.\", \"Te enviaremos información.\", \"Recibirás respuesta pronto.\"],\n",
    "    \"despedida\": [\"Gracias por contactarnos.\", \"Fue un gusto ayudarte.\", \"Chao, vuelve pronto.\"],\n",
    "    \"contacto\": [\"Puedes contactarnos al 123.\", \"Correo: contacto@empresa.com\", \"WhatsApp: 3210000000\"],\n",
    "    \"horario\": [\"Horario: Lun-Vie 9-18\", \"También sábados.\", \"No atendemos festivos.\"],\n",
    "    \"precio\": [\"Precio base: $99.99\", \"Consulta promociones online.\", \"Mira el catálogo.\"],\n",
    "    \"devolución\": [\"30 días para devolver.\", \"Política flexible.\", \"Desde tu cuenta web.\"],\n",
    "    \"soporte\": [\"Centro de ayuda online.\", \"Describe el error.\", \"Estamos aquí para ayudarte.\"],\n",
    "    \"agradecimiento\": [\"¡Gracias por tu confianza!\", \"Nos alegra ayudarte.\", \"Siempre es un placer.\"],\n",
    "    \"felicitación\": [\"¡Nos alegra tu satisfacción!\", \"Gracias por tus palabras.\", \"Seguiremos mejorando.\"]\n",
    "}"
   ]
  },
  {
   "cell_type": "markdown",
   "id": "63107207",
   "metadata": {},
   "source": [
    "## 🧠 Chatbot en consola"
   ]
  },
  {
   "cell_type": "code",
   "execution_count": 173,
   "id": "b2888e8c",
   "metadata": {},
   "outputs": [],
   "source": [
    "def iniciar_chatbot():\n",
    "    print(\"Chatbot Educativo (escribe 'salir' para terminar)\")\n",
    "    while True:\n",
    "        entrada = input(\"Tú: \")\n",
    "        if entrada.lower() == \"salir\":\n",
    "            print(\"Chatbot: ¡Hasta luego!\")\n",
    "            break\n",
    "        categoria = clasificar_interactivo(entrada)\n",
    "        print(f\"Chatbot: {random.choice(respuestas.get(categoria, ['Lo siento, no entendí tu solicitud.']))}\")"
   ]
  },
  {
   "cell_type": "code",
   "execution_count": 174,
   "id": "110a6c13-6f18-4003-9e06-a7def2db64f5",
   "metadata": {},
   "outputs": [
    {
     "name": "stdout",
     "output_type": "stream",
     "text": [
      "Chatbot Educativo (escribe 'salir' para terminar)\n"
     ]
    },
    {
     "name": "stdin",
     "output_type": "stream",
     "text": [
      "Tú:  hola\n"
     ]
    },
    {
     "name": "stdout",
     "output_type": "stream",
     "text": [
      "hol\n",
      "____ saludo\n",
      "Chatbot: ¡Hola! ¿Cómo puedo ayudarte hoy?\n"
     ]
    },
    {
     "name": "stdin",
     "output_type": "stream",
     "text": [
      "Tú:  quiero despejar una duda\n"
     ]
    },
    {
     "name": "stdout",
     "output_type": "stream",
     "text": [
      "quier despej dud\n",
      "____ felicitación\n",
      "Chatbot: Gracias por tus palabras.\n"
     ]
    },
    {
     "name": "stdin",
     "output_type": "stream",
     "text": [
      "Tú:  donde me comunico\n"
     ]
    },
    {
     "name": "stdout",
     "output_type": "stream",
     "text": [
      "comun\n",
      "____ agradecimiento\n",
      "Chatbot: Nos alegra ayudarte.\n"
     ]
    },
    {
     "name": "stdin",
     "output_type": "stream",
     "text": [
      "Tú:  tengo una peticion\n"
     ]
    },
    {
     "name": "stdout",
     "output_type": "stream",
     "text": [
      "peticion\n",
      "____ agradecimiento\n",
      "Chatbot: ¡Gracias por tu confianza!\n"
     ]
    },
    {
     "name": "stdin",
     "output_type": "stream",
     "text": [
      "Tú:  donde estan ubicados\n"
     ]
    },
    {
     "name": "stdout",
     "output_type": "stream",
     "text": [
      "estan ubic\n",
      "____ horario\n",
      "Chatbot: No atendemos festivos.\n"
     ]
    },
    {
     "name": "stdin",
     "output_type": "stream",
     "text": [
      "Tú:  salir\n"
     ]
    },
    {
     "name": "stdout",
     "output_type": "stream",
     "text": [
      "Chatbot: ¡Hasta luego!\n"
     ]
    }
   ],
   "source": [
    "iniciar_chatbot()"
   ]
  },
  {
   "cell_type": "code",
   "execution_count": null,
   "id": "7357e07b-97fe-4184-95dd-606e04509a22",
   "metadata": {},
   "outputs": [],
   "source": []
  }
 ],
 "metadata": {
  "kernelspec": {
   "display_name": "Python 3 (ipykernel)",
   "language": "python",
   "name": "python3"
  },
  "language_info": {
   "codemirror_mode": {
    "name": "ipython",
    "version": 3
   },
   "file_extension": ".py",
   "mimetype": "text/x-python",
   "name": "python",
   "nbconvert_exporter": "python",
   "pygments_lexer": "ipython3",
   "version": "3.12.9"
  }
 },
 "nbformat": 4,
 "nbformat_minor": 5
}
