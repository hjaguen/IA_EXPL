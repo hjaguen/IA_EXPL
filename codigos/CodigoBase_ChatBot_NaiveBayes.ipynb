{
 "cells": [
  {
   "cell_type": "markdown",
   "metadata": {
    "id": "RUQHrySRph5E"
   },
   "source": [
    "**Explicación**\n",
    "1. Definición del conjunto de datos: Se crean frases de ejemplo para cada categoría.\n",
    "\n",
    "2. Conteo de palabras: Se cuenta la frecuencia de cada palabra en cada categoría y se calcula la frecuencia total de palabras en cada categoría.\n",
    "3. Clasificación: Para clasificar una nueva frase, se calcula la probabilidad de que la frase pertenezca a cada categoría utilizando la fórmula de Naive Bayes. La categoría con la mayor probabilidad es la clasificación del algoritmo.\n",
    "\n",
    "Esta implementación es muy básica y no utiliza técnicas avanzadas de NLP, pero sirve como una introducción práctica a cómo funciona el clasificador Naive Bayes en el contexto del conteo de palabras.\n",
    "\n",
    "**Paso 1: Definir el conjunto de datos**\n",
    "Primero, se define un conjunto de datos con ejemplos de cada categoría."
   ]
  },
  {
   "cell_type": "code",
   "execution_count": 19,
   "metadata": {
    "id": "KqC17a1ZpZs-"
   },
   "outputs": [],
   "source": [
    "# Datos de entrenamiento\n",
    "data = [\n",
    "    (\"Hola\", \"saludo\"),\n",
    "    (\"Buenos días\", \"saludo\"),\n",
    "    (\"Buenas tardes\", \"saludo\"),\n",
    "    (\"¿Cómo estás?\", \"saludo\"),\n",
    "    (\"Quisiera hacer una queja\", \"queja\"),\n",
    "    (\"No estoy satisfecho con el servicio\", \"queja\"),\n",
    "    (\"El producto llegó dañado\", \"queja\"),\n",
    "    (\"Necesito reclamar por un error\", \"reclamo\"),\n",
    "    (\"Quiero hacer un reclamo\", \"reclamo\"),\n",
    "    (\"Esto es inaceptable, quiero una solución\", \"reclamo\"),\n",
    "    (\"Me gustaría pedir información\", \"petición\"),\n",
    "    (\"Necesito saber más detalles sobre el producto\", \"petición\"),\n",
    "    (\"Por favor, envíenme más información\", \"petición\"),\n",
    "    (\"Adiós\", \"despedida\"),\n",
    "    (\"Hasta luego\", \"despedida\"),\n",
    "    (\"Nos vemos\", \"despedida\"),\n",
    "    (\"Chao\", \"despedida\")\n",
    "]\n",
    "\n",
    "# Frases y etiquetas\n",
    "phrases, labels = zip(*data)\n"
   ]
  },
  {
   "cell_type": "markdown",
   "metadata": {
    "id": "6PePXzBVplU6"
   },
   "source": [
    "**Paso 2: Crear un diccionario de palabras y calcular frecuencias**\n",
    "A continuación, se crea un diccionario con las frecuencias de palabras por cada categoría."
   ]
  },
  {
   "cell_type": "code",
   "execution_count": 22,
   "metadata": {
    "id": "KaddAjRWpoKj"
   },
   "outputs": [],
   "source": [
    "from collections import defaultdict\n",
    "\n",
    "# Crear un diccionario para contar palabras por categoría\n",
    "word_freq = defaultdict(lambda: defaultdict(int))\n",
    "category_freq = defaultdict(int)\n",
    "\n",
    "for phrase, label in data:\n",
    "    words = phrase.lower().split()\n",
    "    category_freq[label] += 1\n",
    "    for word in words:\n",
    "        word_freq[label][word] += 1\n",
    "\n",
    "# Calcular la frecuencia total de palabras en cada categoría\n",
    "total_words = defaultdict(int)\n",
    "for label in word_freq:\n",
    "    total_words[label] = sum(word_freq[label].values())\n",
    "\n",
    "# Número total de frases\n",
    "total_phrases = len(data)\n"
   ]
  },
  {
   "cell_type": "markdown",
   "metadata": {
    "id": "wG_WEI5Mpr2L"
   },
   "source": [
    "**Paso 3: Implementar el clasificador Naive Bayes**\n",
    "Se implementa el algoritmo Naive Bayes para clasificar nuevas frases."
   ]
  },
  {
   "cell_type": "code",
   "execution_count": 25,
   "metadata": {
    "colab": {
     "base_uri": "https://localhost:8080/"
    },
    "id": "3Wp-VsSvptTy",
    "outputId": "2cd81a28-5f12-4428-a63b-2ceb468c67fd"
   },
   "outputs": [
    {
     "name": "stdout",
     "output_type": "stream",
     "text": [
      "'Hola, ¿cómo estás?' se clasifica como: saludo\n",
      "'Quisiera hacer una queja sobre el servicio' se clasifica como: queja\n",
      "'Esto es inaceptable' se clasifica como: saludo\n",
      "'Necesito información sobre el producto' se clasifica como: petición\n",
      "'Hasta luego, nos vemos' se clasifica como: despedida\n"
     ]
    }
   ],
   "source": [
    "import math\n",
    "\n",
    "def classify(phrase):\n",
    "    words = phrase.lower().split()\n",
    "    category_scores = {}\n",
    "\n",
    "    for category in category_freq:\n",
    "        # Iniciar el puntaje de la categoría con el logaritmo de la probabilidad de la categoría\n",
    "        category_scores[category] = math.log(category_freq[category] / total_phrases)\n",
    "\n",
    "        # Sumar el logaritmo de la probabilidad de cada palabra en la frase\n",
    "        for word in words:\n",
    "            word_probability = (word_freq[category][word] + 1) / (total_words[category] + len(word_freq[category]))\n",
    "            category_scores[category] += math.log(word_probability)\n",
    "\n",
    "    # Devolver la categoría con el puntaje más alto\n",
    "    return max(category_scores, key=category_scores.get)\n",
    "\n",
    "# Probar el clasificador con algunas frases nuevas\n",
    "test_phrases = [\n",
    "    \"Hola, ¿cómo estás?\",\n",
    "    \"Quisiera hacer una queja sobre el servicio\",\n",
    "    \"Esto es inaceptable\",\n",
    "    \"Necesito información sobre el producto\",\n",
    "    \"Hasta luego, nos vemos\"\n",
    "]\n",
    "\n",
    "for phrase in test_phrases:\n",
    "    print(f\"'{phrase}' se clasifica como: {classify(phrase)}\")\n"
   ]
  },
  {
   "cell_type": "code",
   "execution_count": null,
   "metadata": {},
   "outputs": [],
   "source": []
  }
 ],
 "metadata": {
  "colab": {
   "provenance": []
  },
  "kernelspec": {
   "display_name": "Python [conda env:IAexplores]",
   "language": "python",
   "name": "conda-env-IAexplores-py"
  },
  "language_info": {
   "codemirror_mode": {
    "name": "ipython",
    "version": 3
   },
   "file_extension": ".py",
   "mimetype": "text/x-python",
   "name": "python",
   "nbconvert_exporter": "python",
   "pygments_lexer": "ipython3",
   "version": "3.12.9"
  }
 },
 "nbformat": 4,
 "nbformat_minor": 4
}
